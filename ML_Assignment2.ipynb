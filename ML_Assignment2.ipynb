{
  "nbformat": 4,
  "nbformat_minor": 0,
  "metadata": {
    "colab": {
      "provenance": [],
      "authorship_tag": "ABX9TyPGA6VqEAyr9Z+Vb8ohuV3+",
      "include_colab_link": true
    },
    "kernelspec": {
      "name": "python3",
      "display_name": "Python 3"
    },
    "language_info": {
      "name": "python"
    }
  },
  "cells": [
    {
      "cell_type": "markdown",
      "metadata": {
        "id": "view-in-github",
        "colab_type": "text"
      },
      "source": [
        "<a href=\"https://colab.research.google.com/github/RaspyPiano24270/ML-Assignment_2/blob/main/ML_Assignment2.ipynb\" target=\"_parent\"><img src=\"https://colab.research.google.com/assets/colab-badge.svg\" alt=\"Open In Colab\"/></a>"
      ]
    },
    {
      "cell_type": "code",
      "source": [
        "import numpy as np\n",
        "from sklearn.datasets import load_digits\n",
        "from sklearn.model_selection import train_test_split\n",
        "from sklearn.metrics import accuracy_score, precision_score, recall_score, f1_score\n",
        "from sklearn.tree import DecisionTreeClassifier\n",
        "from sklearn.svm import SVC\n",
        "from collections import Counter\n",
        "from math import dist"
      ],
      "metadata": {
        "id": "kRyaLVQWvAgN"
      },
      "execution_count": null,
      "outputs": []
    },
    {
      "cell_type": "code",
      "source": [
        "#load data\n",
        "digits = load_digits()\n",
        "X, y = digits.data, digits.target\n",
        "\n",
        "#1st split\n",
        "X_train, X_temp, y_train, y_temp = train_test_split(X, y, test_size=0.3, shuffle=True, random_state=42)\n",
        "\n",
        "#2nd split\n",
        "X_val, X_test, y_val, y_test = train_test_split(X_temp, y_temp, test_size=0.5, shuffle=True, random_state=42)\n",
        "\n",
        "print(X_train.shape, X_val.shape, X_test.shape)"
      ],
      "metadata": {
        "colab": {
          "base_uri": "https://localhost:8080/"
        },
        "id": "ylGyPEZBPRvu",
        "outputId": "51ee8641-3152-41c0-b1b4-e08d12586736"
      },
      "execution_count": null,
      "outputs": [
        {
          "output_type": "stream",
          "name": "stdout",
          "text": [
            "(1257, 64) (270, 64) (270, 64)\n"
          ]
        }
      ]
    },
    {
      "cell_type": "code",
      "source": [
        "#distance function 1\n",
        "def euclidean_distance(a, b):\n",
        "  return np.sqrt(np.sum((a-b)**2))\n",
        "\n",
        "#distance function 2\n",
        "def manhattan_distance(a, b):\n",
        "  return np.sum(np.abs(a-b))\n",
        "\n",
        "#distance function 3\n",
        "def cosine_distance(a, b):\n",
        "  return 1 - np.dot(a, b) / (np.linalg.norm(a) * np.linalg.norm(b))"
      ],
      "metadata": {
        "id": "UMknXw9_2kzF"
      },
      "execution_count": null,
      "outputs": []
    },
    {
      "cell_type": "code",
      "source": [
        "#KNN class skeleton\n",
        "class KNNClassifier:\n",
        "  def __init__(self, k=3, distance_func=euclidean_distance):\n",
        "    self.k = k\n",
        "    self.distance_func = distance_func\n",
        "\n",
        "  def fit(self, X, y):\n",
        "    self.X_train = X\n",
        "    self.y_train = y\n",
        "\n",
        "  def predict(self, X):\n",
        "    predictions = []\n",
        "    for x in X:\n",
        "      distances = [self.distance_func(x, x_train) for x_train in self.X_train]\n",
        "      k_indices = np.argsort(distances)[:self.k]\n",
        "      k_labels = [self.y_train[i] for i in k_indices]\n",
        "      predictions.append(Counter(k_labels).most_common(1)[0][0])\n",
        "    return np.array(predictions)"
      ],
      "metadata": {
        "id": "SnhUhgEb2u_8"
      },
      "execution_count": null,
      "outputs": []
    },
    {
      "cell_type": "markdown",
      "source": [
        "# KNN Tests"
      ],
      "metadata": {
        "id": "yrnaggmFYPXo"
      }
    },
    {
      "cell_type": "code",
      "source": [
        "#k=3, euclidean\n",
        "knn = KNNClassifier(k=3, distance_func=euclidean_distance)\n",
        "knn.fit(X_train, y_train)\n",
        "y_pred = knn.predict(X_val)\n",
        "\n",
        "print(\"Accuracy:\", accuracy_score(y_val, y_pred))\n",
        "print(\"F1 score:\", f1_score(y_val, y_pred, average='macro'))\n",
        "print(\"Precision:\", precision_score(y_val, y_pred, average='macro'))\n",
        "print(\"Recall:\", recall_score(y_val, y_pred, average='macro'))"
      ],
      "metadata": {
        "colab": {
          "base_uri": "https://localhost:8080/"
        },
        "id": "02mPdcyoSj_x",
        "outputId": "db1fe995-ccfa-411c-b2cd-94b9b68c02d4"
      },
      "execution_count": null,
      "outputs": [
        {
          "output_type": "stream",
          "name": "stdout",
          "text": [
            "Accuracy: 0.9925925925925926\n",
            "F1 score: 0.9937373737373738\n",
            "Precision: 0.9940178571428572\n",
            "Recall: 0.9935714285714287\n"
          ]
        }
      ]
    },
    {
      "cell_type": "code",
      "source": [
        "#k=5, manhattan\n",
        "knn = KNNClassifier(k=5, distance_func=manhattan_distance)\n",
        "knn.fit(X_train, y_train)\n",
        "y_pred = knn.predict(X_val)\n",
        "\n",
        "print(\"Accuracy:\", accuracy_score(y_val, y_pred))\n",
        "print(\"F1 score:\", f1_score(y_val, y_pred, average='macro'))\n",
        "print(\"Precision:\", precision_score(y_val, y_pred, average='macro'))\n",
        "print(\"Recall:\", recall_score(y_val, y_pred, average='macro'))"
      ],
      "metadata": {
        "colab": {
          "base_uri": "https://localhost:8080/"
        },
        "id": "Q_bbtCJcY-76",
        "outputId": "6a7bc2f9-af28-45e9-8d68-9a50f3e73ced"
      },
      "execution_count": null,
      "outputs": [
        {
          "output_type": "stream",
          "name": "stdout",
          "text": [
            "Accuracy: 0.9851851851851852\n",
            "F1 score: 0.9863265278731662\n",
            "Precision: 0.9876157407407407\n",
            "Recall: 0.9854517704517705\n"
          ]
        }
      ]
    },
    {
      "cell_type": "code",
      "source": [
        "#k=7, cosine\n",
        "knn = KNNClassifier(k=7, distance_func=cosine_distance)\n",
        "knn.fit(X_train, y_train)\n",
        "y_pred = knn.predict(X_val)\n",
        "\n",
        "print(\"Accuracy:\", accuracy_score(y_val, y_pred))\n",
        "print(\"F1 score:\", f1_score(y_val, y_pred, average='macro'))\n",
        "print(\"Precision:\", precision_score(y_val, y_pred, average='macro'))\n",
        "print(\"Recall:\", recall_score(y_val, y_pred, average='macro'))"
      ],
      "metadata": {
        "colab": {
          "base_uri": "https://localhost:8080/"
        },
        "id": "1Wg2WE8OY_R3",
        "outputId": "942d8d3c-5e59-4534-a47a-d7556827baf7"
      },
      "execution_count": null,
      "outputs": [
        {
          "output_type": "stream",
          "name": "stdout",
          "text": [
            "Accuracy: 0.9925925925925926\n",
            "F1 score: 0.9942568542568543\n",
            "Precision: 0.9940178571428572\n",
            "Recall: 0.9945787545787546\n"
          ]
        }
      ]
    },
    {
      "cell_type": "markdown",
      "source": [
        "#Other Algorithm Tests\n"
      ],
      "metadata": {
        "id": "S0QydMKJYr1q"
      }
    },
    {
      "cell_type": "code",
      "source": [
        "#decision tree, max_depth=10, criterion=gini\n",
        "dt = DecisionTreeClassifier(max_depth=10,criterion='gini', random_state=42)\n",
        "dt.fit(X_train, y_train)\n",
        "y_pred_dt = dt.predict(X_val)\n",
        "\n",
        "#SVM, C=1.0, kernel=rbf\n",
        "svm = SVC(C=1.0, kernel='rbf')\n",
        "svm.fit(X_train, y_train)\n",
        "y_pred_svm = svm.predict(X_val)\n",
        "\n",
        "#eval\n",
        "for name, y_pred in [(\"Decision Tree\", y_pred_dt),(\"SVM\", y_pred_svm)]:\n",
        "  print(name)\n",
        "  print(\"Accuracy:\", accuracy_score(y_val, y_pred))\n",
        "  print(\"F1:\", f1_score(y_val, y_pred, average='macro'))\n",
        "  print(\"Precision:\", precision_score(y_val, y_pred, average='macro'))\n",
        "  print(\"Recall:\", recall_score(y_val, y_pred, average='macro'))"
      ],
      "metadata": {
        "colab": {
          "base_uri": "https://localhost:8080/"
        },
        "id": "SklaBDHcVO8c",
        "outputId": "05d707e8-58b2-43c8-d53a-ff8c611c2cf7"
      },
      "execution_count": null,
      "outputs": [
        {
          "output_type": "stream",
          "name": "stdout",
          "text": [
            "Decision Tree\n",
            "Accuracy: 0.8740740740740741\n",
            "F1: 0.8731401279570659\n",
            "Precision: 0.8801512565196775\n",
            "Recall: 0.869648111744886\n",
            "SVM\n",
            "Accuracy: 0.9851851851851852\n",
            "F1: 0.9854916559174857\n",
            "Precision: 0.9850824642250788\n",
            "Recall: 0.9862454212454214\n"
          ]
        }
      ]
    },
    {
      "cell_type": "code",
      "source": [
        "#decision tree, max_depth=05, criterion=entropy\n",
        "dt = DecisionTreeClassifier(max_depth=5,criterion='entropy', random_state=42)\n",
        "dt.fit(X_train, y_train)\n",
        "y_pred_dt = dt.predict(X_val)\n",
        "\n",
        "#SVM, C=2.0, kernel=linear\n",
        "svm = SVC(C=2.0, kernel='linear')\n",
        "svm.fit(X_train, y_train)\n",
        "y_pred_svm = svm.predict(X_val)\n",
        "\n",
        "#eval\n",
        "for name, y_pred in [(\"Decision Tree\", y_pred_dt),(\"SVM\", y_pred_svm)]:\n",
        "  print(name)\n",
        "  print(\"Accuracy:\", accuracy_score(y_val, y_pred))\n",
        "  print(\"F1:\", f1_score(y_val, y_pred, average='macro'))\n",
        "  print(\"Precision:\", precision_score(y_val, y_pred, average='macro'))\n",
        "  print(\"Recall:\", recall_score(y_val, y_pred, average='macro'))"
      ],
      "metadata": {
        "colab": {
          "base_uri": "https://localhost:8080/"
        },
        "id": "mLoNTwxsZtBt",
        "outputId": "1eb38193-c26e-4d57-ba41-6e4029dd8e73"
      },
      "execution_count": null,
      "outputs": [
        {
          "output_type": "stream",
          "name": "stdout",
          "text": [
            "Decision Tree\n",
            "Accuracy: 0.8333333333333334\n",
            "F1: 0.8276540661538558\n",
            "Precision: 0.8557182608455953\n",
            "Recall: 0.823680190776965\n",
            "SVM\n",
            "Accuracy: 0.9777777777777777\n",
            "F1: 0.977244728102024\n",
            "Precision: 0.977991452991453\n",
            "Recall: 0.9768437118437119\n"
          ]
        }
      ]
    },
    {
      "cell_type": "code",
      "source": [
        "#decision tree, max_depth=20, criterion=log_loss\n",
        "dt = DecisionTreeClassifier(max_depth=20,criterion='log_loss', random_state=42)\n",
        "dt.fit(X_train, y_train)\n",
        "y_pred_dt = dt.predict(X_val)\n",
        "\n",
        "#SVM, C=3.0, kernel=poly\n",
        "svm = SVC(C=3.0, kernel='poly')\n",
        "svm.fit(X_train, y_train)\n",
        "y_pred_svm = svm.predict(X_val)\n",
        "\n",
        "#eval\n",
        "for name, y_pred in [(\"Decision Tree\", y_pred_dt),(\"SVM\", y_pred_svm)]:\n",
        "  print(name)\n",
        "  print(\"Accuracy:\", accuracy_score(y_val, y_pred))\n",
        "  print(\"F1:\", f1_score(y_val, y_pred, average='macro'))\n",
        "  print(\"Precision:\", precision_score(y_val, y_pred, average='macro'))\n",
        "  print(\"Recall:\", recall_score(y_val, y_pred, average='macro'))"
      ],
      "metadata": {
        "colab": {
          "base_uri": "https://localhost:8080/"
        },
        "id": "4RahVoCOZtRS",
        "outputId": "13620389-40cd-4ebc-8b01-a5f9fa9d0fc3"
      },
      "execution_count": null,
      "outputs": [
        {
          "output_type": "stream",
          "name": "stdout",
          "text": [
            "Decision Tree\n",
            "Accuracy: 0.8888888888888888\n",
            "F1: 0.8857965167942871\n",
            "Precision: 0.883784277504105\n",
            "Recall: 0.8916519322970936\n",
            "SVM\n",
            "Accuracy: 0.9851851851851852\n",
            "F1: 0.9857627909242476\n",
            "Precision: 0.985609857978279\n",
            "Recall: 0.9862454212454214\n"
          ]
        }
      ]
    }
  ]
}